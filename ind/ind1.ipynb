{
 "cells": [
  {
   "attachments": {},
   "cell_type": "markdown",
   "metadata": {},
   "source": [
    " # Индивидуальное $№1$."
   ]
  },
  {
   "attachments": {},
   "cell_type": "markdown",
   "metadata": {},
   "source": [
    "### Вариант $№3$."
   ]
  },
  {
   "attachments": {},
   "cell_type": "markdown",
   "metadata": {},
   "source": [
    "### Дана целочисленная прямоугольная матрица. Определить:\n",
    "### количество столбцов, содержащих хотя бы один нулевой элемент;\n",
    "### номер строки, в которой находится самая длинная серия одинаковых элементов."
   ]
  },
  {
   "cell_type": "code",
   "execution_count": 28,
   "metadata": {},
   "outputs": [],
   "source": [
    "import numpy as np # импортируем нужную библиотеку"
   ]
  },
  {
   "attachments": {},
   "cell_type": "markdown",
   "metadata": {},
   "source": [
    "### Задаём размеры матрицы и создаём её, используя метод random."
   ]
  },
  {
   "cell_type": "code",
   "execution_count": 29,
   "metadata": {},
   "outputs": [
    {
     "name": "stdout",
     "output_type": "stream",
     "text": [
      "Исходная матрица:\n",
      "[[2 8 8 8 4]\n",
      " [4 1 3 4 2]\n",
      " [1 0 7 8 9]\n",
      " [1 4 7 9 5]]\n"
     ]
    }
   ],
   "source": [
    "num_rows = 4\n",
    "num_columns = 5\n",
    "\n",
    "matrix = np.random.randint(low=0, high=10, size=(num_rows, num_columns))\n",
    "print(\"Исходная матрица:\")\n",
    "print(matrix)"
   ]
  },
  {
   "attachments": {},
   "cell_type": "markdown",
   "metadata": {},
   "source": [
    "### Находим номер строки, в которой есть хотя бы один нулевой элемент."
   ]
  },
  {
   "cell_type": "code",
   "execution_count": 30,
   "metadata": {},
   "outputs": [
    {
     "name": "stdout",
     "output_type": "stream",
     "text": [
      "Количество столбцов с нулевыми элементами: 1\n"
     ]
    }
   ],
   "source": [
    "num_columns_with_zeros = np.sum(np.any(matrix == 0, axis=0))\n",
    "print(\"Количество столбцов с нулевыми элементами:\", num_columns_with_zeros)"
   ]
  },
  {
   "attachments": {},
   "cell_type": "markdown",
   "metadata": {},
   "source": [
    "### Находим номер строки с самой длинной серией одинаковых элементов."
   ]
  },
  {
   "cell_type": "code",
   "execution_count": 31,
   "metadata": {},
   "outputs": [
    {
     "name": "stdout",
     "output_type": "stream",
     "text": [
      "Номер строки с самой длинной серией одинаковых элементов: 1\n"
     ]
    }
   ],
   "source": [
    "diff_matrix = np.diff(matrix, axis=1)\n",
    "row_with_longest_series = np.argmax(np.max(np.diff(np.where(diff_matrix != 0), axis=1), axis=1))\n",
    "print(\"Номер строки с самой длинной серией одинаковых элементов:\", row_with_longest_series)"
   ]
  }
 ],
 "metadata": {
  "kernelspec": {
   "display_name": "Python 3 (ipykernel)",
   "language": "python",
   "name": "python3"
  },
  "language_info": {
   "codemirror_mode": {
    "name": "ipython",
    "version": 3
   },
   "file_extension": ".py",
   "mimetype": "text/x-python",
   "name": "python",
   "nbconvert_exporter": "python",
   "pygments_lexer": "ipython3",
   "version": "3.9.12"
  },
  "orig_nbformat": 4
 },
 "nbformat": 4,
 "nbformat_minor": 2
}
